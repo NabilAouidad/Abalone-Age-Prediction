{
 "cells": [
  {
   "cell_type": "markdown",
   "metadata": {},
   "source": [
    "### Content"
   ]
  },
  {
   "cell_type": "markdown",
   "metadata": {},
   "source": [
    "With the data being processed, we're ready now to train a machine learning model that will help us predict abalone age. The following approach will be adopted:\n",
    "\n",
    "* Importing the required libraries and the data;\n",
    "* Data splitting into training and testing;\n",
    "* Model training and evaluation;"
   ]
  },
  {
   "cell_type": "markdown",
   "metadata": {},
   "source": [
    "Three different models will be tested : Linear, Ridge, and Lasso regression."
   ]
  },
  {
   "cell_type": "markdown",
   "metadata": {},
   "source": [
    "### Import the necessary libraries"
   ]
  },
  {
   "cell_type": "code",
   "execution_count": 1,
   "metadata": {},
   "outputs": [],
   "source": [
    "import pandas as pd\n",
    "from sklearn.metrics import root_mean_squared_error\n",
    "from sklearn.model_selection import train_test_split\n",
    "from sklearn.linear_model import LinearRegression, Ridge, Lasso\n",
    "from sklearn.preprocessing import PolynomialFeatures\n",
    "from sklearn.pipeline import Pipeline"
   ]
  },
  {
   "cell_type": "markdown",
   "metadata": {},
   "source": [
    "### Import the processed data and create the features and target arrays"
   ]
  },
  {
   "cell_type": "code",
   "execution_count": 2,
   "metadata": {},
   "outputs": [
    {
     "data": {
      "text/html": [
       "<div>\n",
       "<style scoped>\n",
       "    .dataframe tbody tr th:only-of-type {\n",
       "        vertical-align: middle;\n",
       "    }\n",
       "\n",
       "    .dataframe tbody tr th {\n",
       "        vertical-align: top;\n",
       "    }\n",
       "\n",
       "    .dataframe thead th {\n",
       "        text-align: right;\n",
       "    }\n",
       "</style>\n",
       "<table border=\"1\" class=\"dataframe\">\n",
       "  <thead>\n",
       "    <tr style=\"text-align: right;\">\n",
       "      <th></th>\n",
       "      <th>Length</th>\n",
       "      <th>Diam</th>\n",
       "      <th>Height</th>\n",
       "      <th>Whole</th>\n",
       "      <th>Shucked</th>\n",
       "      <th>Viscera</th>\n",
       "      <th>Shell</th>\n",
       "      <th>Age</th>\n",
       "    </tr>\n",
       "  </thead>\n",
       "  <tbody>\n",
       "    <tr>\n",
       "      <th>0</th>\n",
       "      <td>-0.592283</td>\n",
       "      <td>-0.433414</td>\n",
       "      <td>-1.199002</td>\n",
       "      <td>-0.625502</td>\n",
       "      <td>-0.604416</td>\n",
       "      <td>-0.719291</td>\n",
       "      <td>-0.619496</td>\n",
       "      <td>16.5</td>\n",
       "    </tr>\n",
       "    <tr>\n",
       "      <th>1</th>\n",
       "      <td>-1.533969</td>\n",
       "      <td>-1.517342</td>\n",
       "      <td>-1.340646</td>\n",
       "      <td>-1.274339</td>\n",
       "      <td>-1.218729</td>\n",
       "      <td>-1.237502</td>\n",
       "      <td>-1.270924</td>\n",
       "      <td>8.5</td>\n",
       "    </tr>\n",
       "    <tr>\n",
       "      <th>2</th>\n",
       "      <td>0.080351</td>\n",
       "      <td>0.162747</td>\n",
       "      <td>-0.065858</td>\n",
       "      <td>-0.258914</td>\n",
       "      <td>-0.447151</td>\n",
       "      <td>-0.319528</td>\n",
       "      <td>-0.130926</td>\n",
       "      <td>10.5</td>\n",
       "    </tr>\n",
       "    <tr>\n",
       "      <th>3</th>\n",
       "      <td>-0.726809</td>\n",
       "      <td>-0.433414</td>\n",
       "      <td>-0.349144</td>\n",
       "      <td>-0.621004</td>\n",
       "      <td>-0.648646</td>\n",
       "      <td>-0.590972</td>\n",
       "      <td>-0.578782</td>\n",
       "      <td>11.5</td>\n",
       "    </tr>\n",
       "    <tr>\n",
       "      <th>4</th>\n",
       "      <td>-1.713338</td>\n",
       "      <td>-1.625735</td>\n",
       "      <td>-1.623932</td>\n",
       "      <td>-1.320443</td>\n",
       "      <td>-1.267874</td>\n",
       "      <td>-1.326338</td>\n",
       "      <td>-1.393066</td>\n",
       "      <td>8.5</td>\n",
       "    </tr>\n",
       "    <tr>\n",
       "      <th>...</th>\n",
       "      <td>...</td>\n",
       "      <td>...</td>\n",
       "      <td>...</td>\n",
       "      <td>...</td>\n",
       "      <td>...</td>\n",
       "      <td>...</td>\n",
       "      <td>...</td>\n",
       "      <td>...</td>\n",
       "    </tr>\n",
       "    <tr>\n",
       "      <th>3776</th>\n",
       "      <td>0.394246</td>\n",
       "      <td>0.487926</td>\n",
       "      <td>0.784001</td>\n",
       "      <td>0.213376</td>\n",
       "      <td>0.110645</td>\n",
       "      <td>0.642863</td>\n",
       "      <td>0.186645</td>\n",
       "      <td>12.5</td>\n",
       "    </tr>\n",
       "    <tr>\n",
       "      <th>3777</th>\n",
       "      <td>0.618457</td>\n",
       "      <td>0.379533</td>\n",
       "      <td>-0.065858</td>\n",
       "      <td>0.391047</td>\n",
       "      <td>0.449746</td>\n",
       "      <td>0.401031</td>\n",
       "      <td>0.280287</td>\n",
       "      <td>11.5</td>\n",
       "    </tr>\n",
       "    <tr>\n",
       "      <th>3778</th>\n",
       "      <td>0.708142</td>\n",
       "      <td>0.758908</td>\n",
       "      <td>1.917145</td>\n",
       "      <td>0.863337</td>\n",
       "      <td>0.874851</td>\n",
       "      <td>1.121591</td>\n",
       "      <td>0.667072</td>\n",
       "      <td>10.5</td>\n",
       "    </tr>\n",
       "    <tr>\n",
       "      <th>3779</th>\n",
       "      <td>0.932353</td>\n",
       "      <td>0.867301</td>\n",
       "      <td>0.359071</td>\n",
       "      <td>0.680044</td>\n",
       "      <td>0.901881</td>\n",
       "      <td>0.860018</td>\n",
       "      <td>0.569358</td>\n",
       "      <td>11.5</td>\n",
       "    </tr>\n",
       "    <tr>\n",
       "      <th>3780</th>\n",
       "      <td>1.694671</td>\n",
       "      <td>1.626051</td>\n",
       "      <td>1.633859</td>\n",
       "      <td>2.600691</td>\n",
       "      <td>2.938944</td>\n",
       "      <td>2.000082</td>\n",
       "      <td>2.189783</td>\n",
       "      <td>13.5</td>\n",
       "    </tr>\n",
       "  </tbody>\n",
       "</table>\n",
       "<p>3781 rows × 8 columns</p>\n",
       "</div>"
      ],
      "text/plain": [
       "        Length      Diam    Height     Whole   Shucked   Viscera     Shell  \\\n",
       "0    -0.592283 -0.433414 -1.199002 -0.625502 -0.604416 -0.719291 -0.619496   \n",
       "1    -1.533969 -1.517342 -1.340646 -1.274339 -1.218729 -1.237502 -1.270924   \n",
       "2     0.080351  0.162747 -0.065858 -0.258914 -0.447151 -0.319528 -0.130926   \n",
       "3    -0.726809 -0.433414 -0.349144 -0.621004 -0.648646 -0.590972 -0.578782   \n",
       "4    -1.713338 -1.625735 -1.623932 -1.320443 -1.267874 -1.326338 -1.393066   \n",
       "...        ...       ...       ...       ...       ...       ...       ...   \n",
       "3776  0.394246  0.487926  0.784001  0.213376  0.110645  0.642863  0.186645   \n",
       "3777  0.618457  0.379533 -0.065858  0.391047  0.449746  0.401031  0.280287   \n",
       "3778  0.708142  0.758908  1.917145  0.863337  0.874851  1.121591  0.667072   \n",
       "3779  0.932353  0.867301  0.359071  0.680044  0.901881  0.860018  0.569358   \n",
       "3780  1.694671  1.626051  1.633859  2.600691  2.938944  2.000082  2.189783   \n",
       "\n",
       "       Age  \n",
       "0     16.5  \n",
       "1      8.5  \n",
       "2     10.5  \n",
       "3     11.5  \n",
       "4      8.5  \n",
       "...    ...  \n",
       "3776  12.5  \n",
       "3777  11.5  \n",
       "3778  10.5  \n",
       "3779  11.5  \n",
       "3780  13.5  \n",
       "\n",
       "[3781 rows x 8 columns]"
      ]
     },
     "execution_count": 2,
     "metadata": {},
     "output_type": "execute_result"
    }
   ],
   "source": [
    "abalone_df = pd.read_csv(\"abalone_processed.csv\")\n",
    "abalone_df"
   ]
  },
  {
   "cell_type": "code",
   "execution_count": 3,
   "metadata": {},
   "outputs": [],
   "source": [
    "X = abalone_df.iloc[:, :-1].values\n",
    "y = abalone_df.iloc[:, -1].values"
   ]
  },
  {
   "cell_type": "code",
   "execution_count": 4,
   "metadata": {},
   "outputs": [],
   "source": [
    "rs = 117"
   ]
  },
  {
   "cell_type": "markdown",
   "metadata": {},
   "source": [
    "Data splitting"
   ]
  },
  {
   "cell_type": "code",
   "execution_count": 5,
   "metadata": {},
   "outputs": [],
   "source": [
    "X_train, X_test, y_train, y_test = train_test_split(X, y, test_size = 0.25, random_state = rs)"
   ]
  },
  {
   "cell_type": "markdown",
   "metadata": {},
   "source": [
    "### Model definition and training"
   ]
  },
  {
   "cell_type": "markdown",
   "metadata": {},
   "source": [
    "We first define a function to help us train and evaluate models."
   ]
  },
  {
   "cell_type": "code",
   "execution_count": 6,
   "metadata": {},
   "outputs": [],
   "source": [
    "def modelTrainEval(model, X, y):\n",
    "    X_train, X_test, y_train, y_test = train_test_split(X, y, \n",
    "                                                        test_size = 0.25, \n",
    "                                                        random_state = rs)\n",
    "    model.fit(X_train, y_train)\n",
    "    y_pred = model.predict(X_test)\n",
    "    rmse = root_mean_squared_error(y_test, y_pred)\n",
    "    print(f\"RMSE : {rmse:.3f}\")"
   ]
  },
  {
   "cell_type": "code",
   "execution_count": 7,
   "metadata": {},
   "outputs": [
    {
     "name": "stdout",
     "output_type": "stream",
     "text": [
      "Ridge\n",
      "RMSE : 11.100\n",
      "Lasso Regression\n",
      "RMSE : 11.210\n",
      "Linear Regression\n",
      "RMSE : 11.102\n"
     ]
    }
   ],
   "source": [
    "ridgeRegression = Ridge(solver = \"auto\", fit_intercept = False)\n",
    "lassoRegression = Lasso(fit_intercept = False)\n",
    "simpleRegression = LinearRegression(fit_intercept = False)\n",
    "\n",
    "models = {\"Ridge\":ridgeRegression,\n",
    "          \"Lasso Regression\":lassoRegression,\n",
    "          \"Linear Regression\":simpleRegression}\n",
    "\n",
    "\n",
    "for name, object in models.items():\n",
    "    print(name)\n",
    "    modelTrainEval(object, X, y)"
   ]
  },
  {
   "cell_type": "markdown",
   "metadata": {},
   "source": [
    "The default models gave quite bad results on the dataset. We can achieve better results by setting `fit_intercept` to True (Default value), however the sample age depends completely on the characteristics and we don't expect any bias units because logically if all the sample characteristics are zero then the sample doesn't exist."
   ]
  },
  {
   "cell_type": "markdown",
   "metadata": {},
   "source": [
    "A technique that we can use to improve the models performance is using polynomial transformations on the features and test different degrees and evaluate the models each time."
   ]
  },
  {
   "cell_type": "code",
   "execution_count": 8,
   "metadata": {},
   "outputs": [
    {
     "name": "stdout",
     "output_type": "stream",
     "text": [
      "Degree = 1\n",
      "\n",
      "Ridge\n",
      "RMSE : 11.100\n",
      "Lasso Regression\n",
      "RMSE : 11.210\n",
      "Linear Regression\n",
      "RMSE : 11.102\n",
      "########################\n",
      "Degree = 2\n",
      "\n",
      "Ridge\n",
      "RMSE : 5.798\n",
      "Lasso Regression\n",
      "RMSE : 8.538\n",
      "Linear Regression\n",
      "RMSE : 5.807\n",
      "########################\n",
      "Degree = 3\n",
      "\n",
      "Ridge\n",
      "RMSE : 4.311\n",
      "Lasso Regression\n",
      "RMSE : 7.768\n",
      "Linear Regression\n",
      "RMSE : 4.533\n",
      "########################\n",
      "Degree = 4\n",
      "\n",
      "Ridge\n",
      "RMSE : 4.295\n",
      "Lasso Regression\n",
      "RMSE : 7.417\n",
      "Linear Regression\n",
      "RMSE : 13.118\n",
      "########################\n"
     ]
    }
   ],
   "source": [
    "for i in range(1, 5):\n",
    "    polyFeatures = PolynomialFeatures(degree = i, include_bias = False)\n",
    "    X_poly = polyFeatures.fit_transform(X)\n",
    "    print(f\"Degree = {i}\")\n",
    "    print()\n",
    "    for name, object in models.items():\n",
    "        print(name)\n",
    "        modelTrainEval(object, X_poly, y)\n",
    "    print(\"########################\")"
   ]
  },
  {
   "cell_type": "markdown",
   "metadata": {},
   "source": [
    "We'll continue with the Ridge regression model since it performs well on the data and use a degree of 4 for the polynomial transformation."
   ]
  },
  {
   "cell_type": "code",
   "execution_count": 9,
   "metadata": {},
   "outputs": [],
   "source": [
    "polyFeatures = PolynomialFeatures(degree = 4, include_bias = False)\n",
    "X_poly = polyFeatures.fit_transform(X)"
   ]
  },
  {
   "cell_type": "markdown",
   "metadata": {},
   "source": [
    "Now we'll test the model's performance using different values for alpha."
   ]
  },
  {
   "cell_type": "code",
   "execution_count": 10,
   "metadata": {},
   "outputs": [
    {
     "name": "stdout",
     "output_type": "stream",
     "text": [
      "Alpha : 0\n",
      "RMSE : 13.118\n",
      "\n",
      "Alpha : 1\n",
      "RMSE : 4.295\n",
      "\n",
      "Alpha : 2\n",
      "RMSE : 4.051\n",
      "\n",
      "Alpha : 3\n",
      "RMSE : 3.986\n",
      "\n",
      "Alpha : 4\n",
      "RMSE : 3.971\n",
      "\n",
      "Alpha : 5\n",
      "RMSE : 3.976\n",
      "\n"
     ]
    }
   ],
   "source": [
    "for i in range(6):\n",
    "    ridgeModel = Ridge(fit_intercept = False, alpha = i)\n",
    "    print(f\"Alpha : {i}\")\n",
    "    modelTrainEval(ridgeModel, X_poly, y)\n",
    "    print()"
   ]
  },
  {
   "cell_type": "markdown",
   "metadata": {},
   "source": [
    "We have the optimal values for the degrees and alpha parameter, the final step is to create a pipeline using the polynomial features transformation and the ridge regression model."
   ]
  },
  {
   "cell_type": "code",
   "execution_count": 11,
   "metadata": {},
   "outputs": [],
   "source": [
    "finalModel = Pipeline([\n",
    "    (\"poly\", PolynomialFeatures(degree = 4, include_bias = False)),\n",
    "    (\"ridge\", Ridge(fit_intercept = False, alpha = 4))\n",
    "])"
   ]
  },
  {
   "cell_type": "code",
   "execution_count": 12,
   "metadata": {},
   "outputs": [
    {
     "name": "stdout",
     "output_type": "stream",
     "text": [
      "RMSE : 3.971\n"
     ]
    }
   ],
   "source": [
    "modelTrainEval(finalModel, X, y)"
   ]
  },
  {
   "cell_type": "markdown",
   "metadata": {},
   "source": [
    "### Save the model"
   ]
  },
  {
   "cell_type": "code",
   "execution_count": 13,
   "metadata": {},
   "outputs": [],
   "source": [
    "import joblib"
   ]
  },
  {
   "cell_type": "code",
   "execution_count": 14,
   "metadata": {},
   "outputs": [
    {
     "data": {
      "text/plain": [
       "['Streamlit-App/ridgeModel.pkl']"
      ]
     },
     "execution_count": 14,
     "metadata": {},
     "output_type": "execute_result"
    }
   ],
   "source": [
    "joblib.dump(finalModel, \"Streamlit-App/ridgeModel.pkl\")"
   ]
  }
 ],
 "metadata": {
  "kernelspec": {
   "display_name": "Python 3",
   "language": "python",
   "name": "python3"
  },
  "language_info": {
   "codemirror_mode": {
    "name": "ipython",
    "version": 3
   },
   "file_extension": ".py",
   "mimetype": "text/x-python",
   "name": "python",
   "nbconvert_exporter": "python",
   "pygments_lexer": "ipython3",
   "version": "3.11.5"
  }
 },
 "nbformat": 4,
 "nbformat_minor": 2
}
